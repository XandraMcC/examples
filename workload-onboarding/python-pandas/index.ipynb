{
 "cells": [
  {
   "cell_type": "markdown",
   "metadata": {},
   "source": [
    "# Running Pandas on Bacalhau\n",
    "## Introduction\n",
    "Pandas is a Python package that provides fast, flexible, and expressive data structures designed to make working with \"relational\" or \"labeled\" data both easy and intuitive. It aims to be the fundamental high-level building block for doing practical, real world data analysis in Python. Additionally, it has the broader goal of becoming the most powerful and flexible open source data analysis/manipulation tool available in any language. It is already well on its way towards this goal."
   ]
  },
  {
   "cell_type": "markdown",
   "metadata": {},
   "source": [
    "## Installing and Getting Started with Pandas"
   ]
  },
  {
   "cell_type": "code",
   "execution_count": null,
   "metadata": {},
   "outputs": [],
   "source": [
    "%%bash\n",
    "pip install pandas"
   ]
  },
  {
   "cell_type": "markdown",
   "metadata": {},
   "source": [
    "### Running your pandas script Locally\n",
    "\n",
    "**Importing data from CSV to DataFrame**\n",
    "\n",
    "We can also create a DataFrame by importing a CSV file. A CSV file is a text file with one record of data per line. The values within the record are separated using the “comma” character. Pandas provides a useful method, named `read_csv()` to read the contents of the CSV file into a DataFrame. For example, we can create a file named `transactions.csv` containing details of Transactions. The CSV file is stored in the same directory that contains Python scripts. \n",
    "\n",
    "This file can be imported using:\n"
   ]
  },
  {
   "cell_type": "code",
   "execution_count": null,
   "metadata": {},
   "outputs": [],
   "source": [
    "%%bash\n",
    "python3 read_csv.py"
   ]
  },
  {
   "cell_type": "markdown",
   "metadata": {},
   "source": [
    "### Running the script on bacalhau\n",
    "To run pandas on bacalhau you must upload your datasets along with the script to IPFS this can be done by using the IPFS CLI to upload the files or using a pinning service like [pinata](https://www.pinata.cloud/) or [nft.storage](https://nft.storage/).\n",
    "\n",
    "Adding the scripts and datasets to IPFS:"
   ]
  },
  {
   "cell_type": "code",
   "execution_count": null,
   "metadata": {},
   "outputs": [],
   "source": [
    "%%bash\n",
    "ipfs add -r ."
   ]
  },
  {
   "cell_type": "markdown",
   "metadata": {},
   "source": [
    "The output should look like:\n",
    "``` bash\n",
    "added QmPqx4BaWzAmZm4AuBqGtG6dkX7bGSVgjfgpkv2g7mi3uz pandas/read_csv.py\n",
    "added QmYErPqtdpNTxpKot9pXR5QbhGSyaGdMFxfUwGHm4rzXzH pandas/transactions.csv\n",
    "added QmfKJT13h5k1b23ja3ZCVg5nFL9oKz2bVXc8oXgtwiwhjz pandas\n",
    " 1.59 KiB / 1.59 KiB [===================================================================================]\n",
    "```"
   ]
  },
  {
   "cell_type": "markdown",
   "metadata": {},
   "source": [
    "For running pandas in bacalhau you need have a container which has python and pandas installed.\n",
    "\n",
    "Structure of the command:\n",
    "\n",
    "- `bacalhau docker run` is similar to docker run\n",
    "- -v mount the CID to the container this is the `CID:<PATH-TO-WHERE-THE-CID-IS-TO-BE-MOUNTED>`\n",
    "`QmfKJT13h5k1b23ja3ZCVg5nFL9oKz2bVXc8oXgtwiwhjz:/files`\n",
    "- -w is used to set the working directory\n",
    "- `-- python read_csv.py` to run the script\n",
    "\n",
    "Command:\n"
   ]
  },
  {
   "cell_type": "code",
   "execution_count": null,
   "metadata": {},
   "outputs": [],
   "source": [
    "%%bash\n",
    "bacalhau docker run \\\n",
    "-v QmfKJT13h5k1b23ja3ZCVg5nFL9oKz2bVXc8oXgtwiwhjz:/files \\\n",
    "-w /files \\\n",
    "amancevice/pandas \\\n",
    "-- python read_csv.py"
   ]
  },
  {
   "cell_type": "markdown",
   "metadata": {},
   "source": [
    "Running the commands will output a UUID (like `940c7fd7-c15a-4d00-8170-0d138cdca7eb`). This is the ID of the job that was created. \n",
    "\n",
    "You can check the status of the job with the following command:"
   ]
  },
  {
   "cell_type": "code",
   "execution_count": null,
   "metadata": {},
   "outputs": [],
   "source": [
    "%%bash\n",
    "bacalhau list --id-filter 940c7fd7-c15a-4d00-8170-0d138cdca7eb"
   ]
  },
  {
   "cell_type": "markdown",
   "metadata": {},
   "source": [
    "This should result in an output like the following:\n",
    "``` bash\n",
    "CREATED   ID        JOB                      STATE      VERIFIED  PUBLISHED               \n",
    " 04:56:11  940c7fd7  Docker amancevice/pa...  Published            /ipfs/bafybeihaqoxj7... \n",
    "\n",
    "```\n",
    "\n",
    "Where it says `Published`, that means the job is done, and we can get the results.\n",
    "\n",
    "If there is an error you can view the error using the following command:\n"
   ]
  },
  {
   "cell_type": "code",
   "execution_count": null,
   "metadata": {},
   "outputs": [],
   "source": [
    "%%bash\n",
    "bacalhau describe 940c7fd7-c15a-4d00-8170-0d138cdca7eb"
   ]
  },
  {
   "cell_type": "markdown",
   "metadata": {},
   "source": [
    "Since there is no error, instead we can see the state of our job is complete. This is the output:\n",
    "``` bash\n",
    "Shards:\n",
    "    - ShardIndex: 0\n",
    "      Nodes:\n",
    "        - Node: QmXaXu9N5GNetatsvwnTfQqNtSeKAD6uCmarbh3LMRYAcF\n",
    "          State: Cancelled\n",
    "          Status: \"\"\n",
    "          Verified: false\n",
    "          ResultID: \"\"\n",
    "        - Node: QmdZQ7ZbhnvWY1J12XYKGHApJ6aufKyLNSvf8jZBrBaAVL\n",
    "          State: Published\n",
    "          Status: 'Got results proposal of length: 0'\n",
    "          Verified: true\n",
    "          ResultID: bafybeihaqoxj7ty55af23hfyu423ic5sazgwocpa4lzfgcxknqcioi3co4\n",
    "Start Time: 2022-09-13T04:56:11.493291381Z\n",
    "```\n",
    "\n"
   ]
  },
  {
   "cell_type": "markdown",
   "metadata": {},
   "source": [
    "To download the results of your job, run the following command:"
   ]
  },
  {
   "cell_type": "code",
   "execution_count": null,
   "metadata": {},
   "outputs": [],
   "source": [
    "%%bash\n",
    "bacalhau get 940c7fd7-c15a-4d00-8170-0d138cdca7eb"
   ]
  },
  {
   "cell_type": "markdown",
   "metadata": {},
   "source": [
    "An example output looks like:\n",
    "``` bash\n",
    "2022/09/13 05:04:15 failed to sufficiently increase receive buffer size (was: 208 kiB, wanted: 2048 kiB, got: 416 kiB). See https://github.com/lucas-clemente/quic-go/wiki/UDP-Receive-Buffer-Size for details.\n",
    "05:04:15.835 | INF ipfs/downloader.go:115 > Found 1 result shards, downloading to temporary folder.\n",
    "05:04:18.602 | INF ipfs/downloader.go:195 > Combining shard from output volume 'outputs' to final location: '/home/vedant/test/pandas'\n",
    "```"
   ]
  },
  {
   "cell_type": "markdown",
   "metadata": {},
   "source": [
    "After the download has finished you can see the following contents by running `ls`:\n",
    "``` bash\n",
    "shards stderr stdout volumes\n",
    "```"
   ]
  },
  {
   "cell_type": "code",
   "execution_count": null,
   "metadata": {},
   "outputs": [],
   "source": [
    "%%bash\n",
    "ls"
   ]
  },
  {
   "cell_type": "markdown",
   "metadata": {},
   "source": [
    "The structure of the files and directories will look like this:\n",
    "``` bash\n",
    "├── shards\n",
    "│   └── job-940c7fd7-c15a-4d00-8170-0d138cdca7eb-shard-0-host-QmdZQ7ZbhnvWY1J12XYKGHApJ6aufKyLNSvf8jZBrBaAVL\n",
    "│       ├── exitCode\n",
    "│       ├── stderr\n",
    "│       └── stdout\n",
    "├── stderr\n",
    "├── stdout\n",
    "└── volumes\n",
    "    └── outputs\n",
    "```\n",
    "- stdout contains things printed to the console like outputs, etc.\n",
    "- stderr contains any errors. In this case, since there are no errors, it's will be empty\n",
    "- volumes folder contain the volumes you named when you started the job with the `-o` flag. In addition, you will always have a `outputs` volume, which is provided by default.\n",
    "\n",
    "Because your script is printed to stdout, the output will appear in the stdout file. You can read this by typing the following command:\n"
   ]
  },
  {
   "cell_type": "code",
   "execution_count": null,
   "metadata": {},
   "outputs": [],
   "source": [
    "%%bash\n",
    "cat stdout"
   ]
  },
  {
   "cell_type": "markdown",
   "metadata": {},
   "source": [
    "The output should look something like this:\n",
    "``` bash\n",
    "                                                hash  ...  transaction_type\n",
    "0  0x04cbcb236043d8fb7839e07bbc7f5eed692fb2ca55d8...  ...                 0\n",
    "1  0xcea6f89720cc1d2f46cc7a935463ae0b99dd5fad9c91...  ...                 0\n",
    "2  0x463d53f0ad57677a3b430a007c1c31d15d62c37fab5e...  ...                 0\n",
    "3  0x05287a561f218418892ab053adfb3d919860988b1945...  ...                 0\n",
    "\n",
    "[4 rows x 15 columns]\n",
    "```"
   ]
  }
 ],
 "metadata": {
  "kernelspec": {
   "display_name": "Python 3.8.9 64-bit",
   "language": "python",
   "name": "python3"
  },
  "language_info": {
   "codemirror_mode": {
    "name": "ipython",
    "version": 3
   },
   "file_extension": ".py",
   "mimetype": "text/x-python",
   "name": "python",
   "nbconvert_exporter": "python",
   "pygments_lexer": "ipython3",
   "version": "3.8.9"
  },
  "orig_nbformat": 4,
  "vscode": {
   "interpreter": {
    "hash": "31f2aee4e71d21fbe5cf8b01ff0e069b9275f58929596ceb00d14d90e3e16cd6"
   }
  }
 },
 "nbformat": 4,
 "nbformat_minor": 2
}
